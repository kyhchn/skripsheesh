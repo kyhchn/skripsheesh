{
  "nbformat": 4,
  "nbformat_minor": 0,
  "metadata": {
    "colab": {
      "provenance": [],
      "authorship_tag": "ABX9TyNaflAIcR7Jf/vkXDRzXXx8",
      "include_colab_link": true
    },
    "kernelspec": {
      "name": "python3",
      "display_name": "Python 3"
    },
    "language_info": {
      "name": "python"
    }
  },
  "cells": [
    {
      "cell_type": "markdown",
      "metadata": {
        "id": "view-in-github",
        "colab_type": "text"
      },
      "source": [
        "<a href=\"https://colab.research.google.com/github/kyhchn/skripsheesh/blob/main/PENGUJIAN_MODEL_fix.ipynb\" target=\"_parent\"><img src=\"https://colab.research.google.com/assets/colab-badge.svg\" alt=\"Open In Colab\"/></a>"
      ]
    },
    {
      "cell_type": "code",
      "execution_count": 1,
      "metadata": {
        "colab": {
          "base_uri": "https://localhost:8080/"
        },
        "id": "XlsNI_0j-V1L",
        "outputId": "859c8728-2d78-4fef-a0b3-1d6780d0cdf7"
      },
      "outputs": [
        {
          "output_type": "stream",
          "name": "stdout",
          "text": [
            "Collecting z3-solver\n",
            "  Downloading z3_solver-4.15.0.0-py3-none-manylinux_2_17_x86_64.manylinux2014_x86_64.whl.metadata (602 bytes)\n",
            "Downloading z3_solver-4.15.0.0-py3-none-manylinux_2_17_x86_64.manylinux2014_x86_64.whl (29.5 MB)\n",
            "\u001b[2K   \u001b[90m━━━━━━━━━━━━━━━━━━━━━━━━━━━━━━━━━━━━━━━━\u001b[0m \u001b[32m29.5/29.5 MB\u001b[0m \u001b[31m23.6 MB/s\u001b[0m eta \u001b[36m0:00:00\u001b[0m\n",
            "\u001b[?25hInstalling collected packages: z3-solver\n",
            "Successfully installed z3-solver-4.15.0.0\n"
          ]
        }
      ],
      "source": [
        "# prompt: install z3 prover\n",
        "\n",
        "!pip install z3-solver\n"
      ]
    },
    {
      "cell_type": "code",
      "source": [
        "from z3 import *\n",
        "\n",
        "\n",
        "# === Step 1: Enum untuk Role, Action, Resource ===\n",
        "Roles, (Superadmin, Direktur, Finance, Kasir, Resepsionis, Pegawai_Lapangan, Pelanggan) = EnumSort(\"Role\", [\n",
        "    \"Superadmin\", \"Direktur\", \"Finance\", \"Kasir\", \"Resepsionis\", \"Pegawai_Lapangan\", \"Pelanggan\"\n",
        "])\n",
        "\n",
        "Actions, (R, C, U, D, Impersonate) = EnumSort(\"Action\", [\"R\", \"C\", \"U\", \"D\", \"Impersonate\"])\n",
        "\n",
        "Objects, (\n",
        "    User, Customer, MeterReading, Bill, Permission, Role, Role_Perm,\n",
        "    Journal, COA, FinancialReport, HousingArea,\n",
        "    R_Superadmin, R_Direktur, R_Finance, R_Kasir, R_Resepsionis, R_Pegawai_Lapangan, R_Pelanggan,\n",
        "    NoneResource\n",
        ") = EnumSort(\"Resource\", [\n",
        "    \"User\", \"Customer\", \"MeterReading\", \"Bill\", \"Permission\", \"Role\", \"Role_Perm\",\n",
        "    \"Journal\", \"COA\", \"FinancialReport\", \"HousingArea\",\n",
        "    \"R_Superadmin\", \"R_Direktur\", \"R_Finance\", \"R_Kasir\", \"R_Resepsionis\", \"R_Pegawai_Lapangan\", \"R_Pelanggan\",\n",
        "    \"None\"\n",
        "])\n",
        "\n",
        "# === User constants as EnumSort ===\n",
        "Users, (u1, u2, u3, u4, u5, u6, u7, u8, u9, u10, u11, u12) = EnumSort(\"User\", [\n",
        "    \"u1\", \"u2\", \"u3\", \"u4\", \"u5\", \"u6\", \"u7\", \"u8\", \"u9\", \"u10\", \"u11\", \"u12\"\n",
        "])\n",
        "\n",
        "\n",
        "# === Step 2: Function untuk permission dan inheritance ===\n",
        "has_permission = Function(\"has_permission\", Roles, Actions, Objects, BoolSort())\n",
        "has_role = Function(\"has_role\", Users, Roles, BoolSort())\n",
        "\n",
        "# === Step 3: Mapping string ke enum (biar gampang parsing) ===\n",
        "role_map = {\n",
        "    \"Superadmin\": Superadmin, \"Direktur\": Direktur, \"Finance\": Finance,\n",
        "    \"Kasir\": Kasir, \"Resepsionis\": Resepsionis, \"Pegawai_Lapangan\": Pegawai_Lapangan, \"Pelanggan\": Pelanggan\n",
        "}\n",
        "action_map = {\"R\": R, \"C\": C, \"U\": U, \"D\": D, \"Impersonate\": Impersonate}\n",
        "object_map = {\n",
        "    \"User\": User, \"Customer\": Customer, \"MeterReading\": MeterReading, \"Bill\": Bill,\n",
        "    \"Permission\": Permission, \"Role\": Role, \"Role_Perm\": Role_Perm,\n",
        "    \"Journal\": Journal, \"COA\": COA, \"FinancialReport\": FinancialReport,\n",
        "    \"HousingArea\": HousingArea, \"None\": NoneResource,\n",
        "    \"Superadmin\": R_Superadmin, \"Direktur\": R_Direktur, \"Finance\": R_Finance,\n",
        "    \"Kasir\": R_Kasir, \"Resepsionis\": R_Resepsionis,\n",
        "    \"Pegawai_Lapangan\": R_Pegawai_Lapangan, \"Pelanggan\": R_Pelanggan\n",
        "}\n",
        "user_map = {\n",
        "    \"u1\": u1, \"u2\": u2, \"u3\": u3, \"u4\": u4, \"u5\": u5, \"u6\": u6, \"u7\": u7, \"u8\": u8, \"u9\": u9, \"u10\": u10, \"u11\": u11, \"u12\": u12\n",
        "}\n",
        "\n",
        "# === Step 4: Masukkan fakta dari hasil kamu tadi ===\n",
        "s = Solver()\n",
        "\n",
        "\n",
        "\n",
        "def perm_tuple(p):\n",
        "    act, res = map(str.strip, p.split(\",\"))\n",
        "    return action_map[act], object_map.get(res, NoneResource)\n",
        "\n",
        "role_perms = {\n",
        "    \"Superadmin\": [\n",
        "        \"R, User\", \"C, User\", \"U, User\", \"R, Customer\", \"R, MeterReading\", \"C, Bill\",\n",
        "        \"C, Permission\", \"R, Permission\", \"U, Permission\", \"D, Permission\",\n",
        "        \"R, Role\", \"R, Role_Perm\", \"C, Role\", \"C, Role_Perm\",\n",
        "        \"U, Role\", \"D, Role_Perm\", \"D, Role\",\n",
        "        \"Impersonate, Finance\", \"Impersonate, Kasir\", \"Impersonate, Pegawai_Lapangan\",\n",
        "        \"Impersonate, Resepsionis\", \"Impersonate, Direktur\"\n",
        "    ],\n",
        "    \"Direktur\": [\"R, FinancialReport\"],\n",
        "    \"Finance\": [\"C, Journal\", \"R, Journal\", \"U, Journal\", \"C, COA\", \"R, COA\", \"U, COA\", \"R, User\"],\n",
        "    \"Kasir\": [\"U, Bill\", \"C, Journal\", \"R, Journal\", \"R, COA\", \"U, Journal\", \"R, User\"],\n",
        "    \"Resepsionis\": [\"C, Customer\", \"U, Customer\", \"C, HousingArea\", \"R, HousingArea\", \"U, HousingArea\", \"R, User\"],\n",
        "    # \"Resepsionis\": [\"C, Customer\", \"C, HousingArea\", \"R, HousingArea\", \"U, HousingArea\", \"R, User\"],\n",
        "    \"Pegawai_Lapangan\": [\"C, MeterReading\", \"U, MeterReading\"],\n",
        "    # \"Pegawai_Lapangan\": [\"C, MeterReading\"],\n",
        "    \"Pelanggan\": [\"R, Customer\", \"R, Bill\", \"R, MeterReading\"]\n",
        "}\n",
        "\n",
        "# Masukkan permission ke dalam Z3\n",
        "roles = list(role_map.values())\n",
        "actions = list(action_map.values())\n",
        "objects = list(object_map.values())\n",
        "users = list(user_map.values())\n"
      ],
      "metadata": {
        "id": "kn6nEiv3GCMR"
      },
      "execution_count": 2,
      "outputs": []
    },
    {
      "cell_type": "code",
      "source": [
        "from collections import defaultdict, deque\n",
        "\n",
        "inherit_rel = [\n",
        "    (\"Direktur\", \"Kasir\"),\n",
        "    (\"Kasir\", \"Pelanggan\"),\n",
        "    (\"Resepsionis\", \"Pelanggan\"),\n",
        "    (\"Pegawai_Lapangan\", \"Pelanggan\")\n",
        "]\n",
        "\n",
        "# Salin base\n",
        "role_perms = {r: set(perm_list) for r, perm_list in role_perms.items()}\n",
        "\n",
        "# Buat reverse map dari child → list of parent\n",
        "child_to_parents = defaultdict(list)\n",
        "for parent, child in inherit_rel:\n",
        "    child_to_parents[child].append(parent)\n",
        "\n",
        "# Wariskan permission dari child ke parent, lakukan sampai stabil\n",
        "def propagate_permissions():\n",
        "    changed = True\n",
        "    while changed:\n",
        "        changed = False\n",
        "        for child, parents in child_to_parents.items():\n",
        "            for parent in parents:\n",
        "                for perm in role_perms.get(child, []):\n",
        "                    if perm not in role_perms[parent]:\n",
        "                        role_perms[parent].add(perm)\n",
        "                        changed = True\n",
        "\n",
        "propagate_permissions()"
      ],
      "metadata": {
        "id": "R1-tGqLCfSik"
      },
      "execution_count": 3,
      "outputs": []
    },
    {
      "cell_type": "code",
      "source": [
        "# Pastikan defined_perms dideklarasikan sebelumnya\n",
        "defined_perms = set()\n",
        "\n",
        "s.push()\n",
        "\n",
        "# Menambahkan permission yang sudah didefinisikan\n",
        "for role, perms in role_perms.items():\n",
        "    for p in perms:\n",
        "        act, res = perm_tuple(p)\n",
        "        defined_perms.add((role_map[role], act, res))\n",
        "\n",
        "\n",
        "print(\"\\n🔒 Menambahkan constraint: default semua permission yang tidak didefinisikan harus False\")\n",
        "for r in roles:\n",
        "    for a in actions:\n",
        "        for res in objects:\n",
        "            if (r, a, res) not in defined_perms:\n",
        "                s.add(has_permission(r, a, res) == False)\n",
        "\n",
        "# Pastikan permission yang didefinisikan adalah True\n",
        "for r, a, res in defined_perms:\n",
        "    s.add(has_permission(r, a, res) == True)\n",
        "\n",
        "if s.check() == sat:\n",
        "  print(\"Valdi\")\n",
        "else:\n",
        "  print(\"Invalid\")"
      ],
      "metadata": {
        "colab": {
          "base_uri": "https://localhost:8080/"
        },
        "id": "5awMJc5m8pIa",
        "outputId": "f9878457-c729-4717-8fe4-32dce0086c16"
      },
      "execution_count": 4,
      "outputs": [
        {
          "output_type": "stream",
          "name": "stdout",
          "text": [
            "\n",
            "🔒 Menambahkan constraint: default semua permission yang tidak didefinisikan harus False\n",
            "Valdi\n"
          ]
        }
      ]
    },
    {
      "cell_type": "code",
      "source": [
        "print(\"\\n SOD_01\")\n",
        "print(\"\\n🔍 Checking constraint: Tidak boleh ada role apa pun yang memiliki dua atau lebih dari permission {C, MeterReading}, {C, Bill}, dan {C, Journal}\")\n",
        "\n",
        "s.push()\n",
        "\n",
        "s.add(has_role(u1, Superadmin) == True)\n",
        "s.add(has_role(u2, Direktur) == True)\n",
        "s.add(has_role(u3, Finance) == True)\n",
        "s.add(has_role(u4, Finance) == True)\n",
        "s.add(has_role(u5, Kasir) == True)\n",
        "s.add(has_role(u6, Kasir) == True)\n",
        "s.add(has_role(u7, Resepsionis) == True)\n",
        "s.add(has_role(u8, Resepsionis) == True)\n",
        "s.add(has_role(u9, Pegawai_Lapangan) == True)\n",
        "s.add(has_role(u10, Pegawai_Lapangan) == True)\n",
        "s.add(has_role(u11, Pelanggan) == True)\n",
        "s.add(has_role(u12, Pelanggan) == True)\n",
        "\n",
        "for u in users:\n",
        "    s.add(Sum([If(has_role(u, r), 1, 0) for r in roles]) == 1)\n",
        "\n",
        "# s.add(Sum([If(has_role(u12, r), 1, 0) for r in roles]) == 1)\n",
        "\n",
        "if s.check() == sat:\n",
        "    print(\"✅ Passed: Semua user memiliki role yang valid.\")\n",
        "else:\n",
        "    print(\"❌ Failed: Ada user dengan role tidak valid.\")"
      ],
      "metadata": {
        "colab": {
          "base_uri": "https://localhost:8080/"
        },
        "id": "QlJ_51QCmC3I",
        "outputId": "c9869c23-6dd8-42de-a50c-398aefdddf6d"
      },
      "execution_count": 8,
      "outputs": [
        {
          "output_type": "stream",
          "name": "stdout",
          "text": [
            "✅ Passed: Semua user memiliki role yang valid.\n"
          ]
        }
      ]
    },
    {
      "cell_type": "code",
      "source": [
        "print(\"\\n SOD_01\")\n",
        "print(\"\\n🔍 Checking constraint: Tidak boleh ada role apa pun yang memiliki dua atau lebih dari permission {C, MeterReading}, {C, Bill}, dan {C, Journal}\")\n",
        "\n",
        "s.push()\n",
        "for role in roles:\n",
        "    c_bill = has_permission(role, C, Bill)\n",
        "    c_journal = has_permission(role, C, Journal)\n",
        "    c_meter = has_permission(role, C, MeterReading)\n",
        "\n",
        "    # Dilarang memiliki kombinasi dua atau lebih dari tiga permission ini\n",
        "    constraint = Not(Or(\n",
        "        And(c_bill, c_journal),\n",
        "        And(c_bill, c_meter),\n",
        "        And(c_journal, c_meter),\n",
        "        And(c_bill, c_journal, c_meter)\n",
        "    ))\n",
        "    s.add(constraint)\n",
        "\n",
        "if s.check() == sat:\n",
        "    print(\"✅ Passed: Tidak ada role yang memiliki dua atau lebih permission tersebut secara bersamaan.\")\n",
        "else:\n",
        "    print(\"❌ Failed: Ada role yang memiliki dua atau lebih permission tersebut.\")\n",
        "    print(\"Model or conflict info:\")\n",
        "    print(s.model())\n",
        "s.pop()\n"
      ],
      "metadata": {
        "id": "EcUTQTJ2YTKi",
        "colab": {
          "base_uri": "https://localhost:8080/"
        },
        "outputId": "61a81675-2d4e-4fef-f643-8b8fd95aee80"
      },
      "execution_count": 12,
      "outputs": [
        {
          "output_type": "stream",
          "name": "stdout",
          "text": [
            "\n",
            " SOD_01\n",
            "\n",
            "🔍 Checking constraint: Tidak boleh ada role apa pun yang memiliki dua atau lebih dari permission {C, MeterReading}, {C, Bill}, dan {C, Journal}\n",
            "✅ Passed: Tidak ada role yang memiliki dua atau lebih permission tersebut secara bersamaan.\n"
          ]
        }
      ]
    },
    {
      "cell_type": "code",
      "source": [
        "# === Constraint Debug Check 2: Hanya satu Superadmin ===\n",
        "print(\"\\n CA_01\")\n",
        "print(\"\\n🔍 Checking constraint: hanya satu Superadmin\")\n",
        "s.push()\n",
        "\n",
        "count_superadmin = Sum([If(has_role(u, Superadmin), 1, 0) for u in users])\n",
        "s.add(count_superadmin == 1)\n",
        "if s.check() == sat:\n",
        "    print(\"✅ Passed: Hanya satu Superadmin.\")\n",
        "else:\n",
        "    print(\"❌ Failed: Jumlah Superadmin tidak tepat.\")\n",
        "s.pop()"
      ],
      "metadata": {
        "colab": {
          "base_uri": "https://localhost:8080/"
        },
        "id": "5BpI56jyVj_c",
        "outputId": "13be2412-2693-44de-9a71-843d27c93091"
      },
      "execution_count": 13,
      "outputs": [
        {
          "output_type": "stream",
          "name": "stdout",
          "text": [
            "\n",
            " CA_01\n",
            "\n",
            "🔍 Checking constraint: hanya satu Superadmin\n",
            "✅ Passed: Hanya satu Superadmin.\n"
          ]
        }
      ]
    },
    {
      "cell_type": "code",
      "source": [
        "# === Constraint Debug Check: Tiap role minimal satu user ===\n",
        "print(\"\\n CA_02\")\n",
        "print(\"\\n🔍 Checking constraint: tiap role minimal satu user\")\n",
        "\n",
        "s.push()\n",
        "\n",
        "for role in roles:\n",
        "    count = Sum([If(has_role(user, role), 1, 0) for user in users])\n",
        "    m = s.model()\n",
        "    print(\"role \", role ,\" evaluate \", m.evaluate(count))\n",
        "    s.add(count >= 1)\n",
        "\n",
        "if s.check() == sat:\n",
        "    model = s.model()\n",
        "    print(\"✅ Passed: Semua role dimiliki minimal oleh satu user.\")\n",
        "else:\n",
        "    print(\"❌ Failed: Ada role yang tidak dimiliki oleh user mana pun.\")\n",
        "# s.pop()"
      ],
      "metadata": {
        "colab": {
          "base_uri": "https://localhost:8080/"
        },
        "id": "A64lA3bYMMZK",
        "outputId": "438aa61e-7eef-4ea0-873d-daacaacdfb0e"
      },
      "execution_count": 14,
      "outputs": [
        {
          "output_type": "stream",
          "name": "stdout",
          "text": [
            "\n",
            " CA_02\n",
            "\n",
            "🔍 Checking constraint: tiap role minimal satu user\n",
            "role  Superadmin  evaluate  1\n",
            "role  Direktur  evaluate  1\n",
            "role  Finance  evaluate  2\n",
            "role  Kasir  evaluate  2\n",
            "role  Resepsionis  evaluate  2\n",
            "role  Pegawai_Lapangan  evaluate  2\n",
            "role  Pelanggan  evaluate  2\n",
            "✅ Passed: Semua role dimiliki minimal oleh satu user.\n"
          ]
        }
      ]
    },
    {
      "cell_type": "code",
      "source": [
        "# Constraint: Tiap permission minimal digunakan satu role\n",
        "print(\"\\n CA_03\")\n",
        "print(\"\\n🔍 Checking constraint: tiap permission minimal digunakan satu role\")\n",
        "\n",
        "# Ambil permissions unik yang ada di role_perms\n",
        "permissions_used = set()\n",
        "for perms in role_perms.values():\n",
        "    for p in perms:\n",
        "        act, res = perm_tuple(p)\n",
        "        permissions_used.add((act, res))\n",
        "\n",
        "# Pastikan tiap permission digunakan minimal satu role\n",
        "for permission in permissions_used:\n",
        "    s.add(Sum([If(has_permission(role, permission[0], permission[1]), 1, 0) for role in roles]) >= 1)\n",
        "\n",
        "# Debug: check jika constraint diterima\n",
        "s.push()\n",
        "if s.check() == sat:\n",
        "    print(\"✅ Passed: Semua permission digunakan minimal satu role.\")\n",
        "else:\n",
        "    print(\"❌ Failed: Ada permission yang tidak digunakan oleh role mana pun.\")\n",
        "s.pop()\n"
      ],
      "metadata": {
        "colab": {
          "base_uri": "https://localhost:8080/"
        },
        "id": "XOP1jBT1VQhl",
        "outputId": "b66c2e81-87b9-4ec9-fe15-3d17663108b3"
      },
      "execution_count": 15,
      "outputs": [
        {
          "output_type": "stream",
          "name": "stdout",
          "text": [
            "\n",
            " CA_03\n",
            "\n",
            "🔍 Checking constraint: tiap permission minimal digunakan satu role\n",
            "✅ Passed: Semua permission digunakan minimal satu role.\n"
          ]
        }
      ]
    },
    {
      "cell_type": "code",
      "source": [
        "print(\"\\n OP_07\")\n",
        "print(\"\\n🔍 Checking constraint: Role yang memiliki permission Update harus memiliki permission Read untuk objek terkait\")\n",
        "\n",
        "s.push()\n",
        "\n",
        "# Constraint: Role yang memiliki permission Update harus memiliki permission Read untuk objek terkait\n",
        "for role, perms in role_perms.items():\n",
        "    print(f\"{role}: {', '.join(map(str, perms))}\")\n",
        "# Cek semua kombinasi yang secara eksplisit diberikan\n",
        "for (r, a, res) in defined_perms:\n",
        "    if a == U:\n",
        "        print(\"role \", r, \" action \", a, \" resource \", res)\n",
        "        role_map\n",
        "        s.add(Implies(\n",
        "            has_permission(r, U, res),\n",
        "            has_permission(r, R, res)\n",
        "        ))\n",
        "\n",
        "if s.check() == sat:\n",
        "    print(\"✅ Passed: Role yang memiliki permission Update juga memiliki permission Read untuk objek terkait.\")\n",
        "else:\n",
        "    print(\"❌ Failed: Ada role yang tidak memenuhi constraint Update harus punya Read untuk objek terkait.\")\n",
        "s.pop()"
      ],
      "metadata": {
        "colab": {
          "base_uri": "https://localhost:8080/"
        },
        "id": "eKK1eF5BYTV-",
        "outputId": "4af499b2-de33-40cb-fd82-13954a4f30dc"
      },
      "execution_count": 16,
      "outputs": [
        {
          "output_type": "stream",
          "name": "stdout",
          "text": [
            "\n",
            " OP_07\n",
            "\n",
            "🔍 Checking constraint: Role yang memiliki permission Update harus memiliki permission Read untuk objek terkait\n",
            "Superadmin: R, Role, Impersonate, Direktur, Impersonate, Kasir, R, User, C, Permission, C, Bill, C, Role, R, Permission, D, Permission, Impersonate, Resepsionis, R, Role_Perm, D, Role_Perm, C, Role_Perm, Impersonate, Pegawai_Lapangan, Impersonate, Finance, R, MeterReading, U, Permission, U, User, C, User, D, Role, U, Role, R, Customer\n",
            "Direktur: U, Journal, R, Bill, R, Customer, C, Journal, R, User, R, COA, R, FinancialReport, U, Bill, R, Journal, R, MeterReading\n",
            "Finance: U, Journal, C, Journal, R, COA, R, User, C, COA, U, COA, R, Journal\n",
            "Kasir: U, Journal, R, Bill, R, Customer, C, Journal, R, COA, R, User, U, Bill, R, Journal, R, MeterReading\n",
            "Resepsionis: C, Customer, R, Bill, R, HousingArea, C, HousingArea, R, User, U, Customer, U, HousingArea, R, Customer, R, MeterReading\n",
            "Pegawai_Lapangan: U, MeterReading, R, Bill, R, Customer, R, MeterReading, C, MeterReading\n",
            "Pelanggan: R, Bill, R, Customer, R, MeterReading\n",
            "role  Direktur  action  U  resource  Journal\n",
            "role  Direktur  action  U  resource  Bill\n",
            "role  Resepsionis  action  U  resource  Customer\n",
            "role  Finance  action  U  resource  Journal\n",
            "role  Finance  action  U  resource  COA\n",
            "role  Pegawai_Lapangan  action  U  resource  MeterReading\n",
            "role  Kasir  action  U  resource  Journal\n",
            "role  Superadmin  action  U  resource  Permission\n",
            "role  Kasir  action  U  resource  Bill\n",
            "role  Superadmin  action  U  resource  User\n",
            "role  Resepsionis  action  U  resource  HousingArea\n",
            "role  Superadmin  action  U  resource  Role\n",
            "✅ Passed: Role yang memiliki permission Update juga memiliki permission Read untuk objek terkait.\n"
          ]
        }
      ]
    }
  ]
}