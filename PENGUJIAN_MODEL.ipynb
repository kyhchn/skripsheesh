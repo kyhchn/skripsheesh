{
  "nbformat": 4,
  "nbformat_minor": 0,
  "metadata": {
    "colab": {
      "provenance": [],
      "authorship_tag": "ABX9TyOgmVTIXx569d7/M4Ql3s+K",
      "include_colab_link": true
    },
    "kernelspec": {
      "name": "python3",
      "display_name": "Python 3"
    },
    "language_info": {
      "name": "python"
    }
  },
  "cells": [
    {
      "cell_type": "markdown",
      "metadata": {
        "id": "view-in-github",
        "colab_type": "text"
      },
      "source": [
        "<a href=\"https://colab.research.google.com/github/kyhchn/skripsheesh/blob/main/PENGUJIAN_MODEL.ipynb\" target=\"_parent\"><img src=\"https://colab.research.google.com/assets/colab-badge.svg\" alt=\"Open In Colab\"/></a>"
      ]
    },
    {
      "cell_type": "code",
      "execution_count": null,
      "metadata": {
        "colab": {
          "base_uri": "https://localhost:8080/"
        },
        "id": "XlsNI_0j-V1L",
        "outputId": "8c6e05fd-422c-4eaa-921c-7281b425fa59"
      },
      "outputs": [
        {
          "output_type": "stream",
          "name": "stdout",
          "text": [
            "Collecting z3-solver\n",
            "  Downloading z3_solver-4.15.0.0-py3-none-manylinux_2_17_x86_64.manylinux2014_x86_64.whl.metadata (602 bytes)\n",
            "Downloading z3_solver-4.15.0.0-py3-none-manylinux_2_17_x86_64.manylinux2014_x86_64.whl (29.5 MB)\n",
            "\u001b[2K   \u001b[90m━━━━━━━━━━━━━━━━━━━━━━━━━━━━━━━━━━━━━━━━\u001b[0m \u001b[32m29.5/29.5 MB\u001b[0m \u001b[31m19.1 MB/s\u001b[0m eta \u001b[36m0:00:00\u001b[0m\n",
            "\u001b[?25hInstalling collected packages: z3-solver\n",
            "Successfully installed z3-solver-4.15.0.0\n"
          ]
        }
      ],
      "source": [
        "# prompt: install z3 prover\n",
        "\n",
        "!pip install z3-solver\n"
      ]
    },
    {
      "cell_type": "code",
      "source": [
        "from z3 import *\n",
        "\n",
        "\n",
        "# === Step 1: Enum untuk Role, Action, Resource ===\n",
        "Roles, (Superadmin, Direktur, Finance, Kasir, Resepsionis, Pegawai_Lapangan, Pelanggan) = EnumSort(\"Role\", [\n",
        "    \"Superadmin\", \"Direktur\", \"Finance\", \"Kasir\", \"Resepsionis\", \"Pegawai_Lapangan\", \"Pelanggan\"\n",
        "])\n",
        "\n",
        "Actions, (R, C, U, D, Impersonate) = EnumSort(\"Action\", [\"R\", \"C\", \"U\", \"D\", \"Impersonate\"])\n",
        "\n",
        "Resources, (\n",
        "    User, Customer, MeterReading, Bill, Permission, Role, Role_Perm,\n",
        "    Journal, COA, FinancialReport, HousingArea,\n",
        "    R_Superadmin, R_Direktur, R_Finance, R_Kasir, R_Resepsionis, R_Pegawai_Lapangan, R_Pelanggan,\n",
        "    NoneResource\n",
        ") = EnumSort(\"Resource\", [\n",
        "    \"User\", \"Customer\", \"MeterReading\", \"Bill\", \"Permission\", \"Role\", \"Role_Perm\",\n",
        "    \"Journal\", \"COA\", \"FinancialReport\", \"HousingArea\",\n",
        "    \"R_Superadmin\", \"R_Direktur\", \"R_Finance\", \"R_Kasir\", \"R_Resepsionis\", \"R_Pegawai_Lapangan\", \"R_Pelanggan\",\n",
        "    \"None\"\n",
        "])\n",
        "\n",
        "\n",
        "# === Step 2: Function untuk permission dan inheritance ===\n",
        "has_permission = Function(\"has_permission\", Roles, Actions, Resources, BoolSort())\n",
        "inherits = Function(\"inherits\", Roles, Roles, BoolSort())\n",
        "\n",
        "# === Step 3: Mapping string ke enum (biar gampang parsing) ===\n",
        "role_map = {\n",
        "    \"Superadmin\": Superadmin, \"Direktur\": Direktur, \"Finance\": Finance,\n",
        "    \"Kasir\": Kasir, \"Resepsionis\": Resepsionis, \"Pegawai_Lapangan\": Pegawai_Lapangan, \"Pelanggan\": Pelanggan\n",
        "}\n",
        "action_map = {\"R\": R, \"C\": C, \"U\": U, \"D\": D, \"Impersonate\": Impersonate}\n",
        "resource_map = {\n",
        "    \"User\": User, \"Customer\": Customer, \"MeterReading\": MeterReading, \"Bill\": Bill,\n",
        "    \"Permission\": Permission, \"Role\": Role, \"Role_Perm\": Role_Perm,\n",
        "    \"Journal\": Journal, \"COA\": COA, \"FinancialReport\": FinancialReport,\n",
        "    \"HousingArea\": HousingArea, \"None\": NoneResource,\n",
        "    \"Superadmin\": R_Superadmin, \"Direktur\": R_Direktur, \"Finance\": R_Finance,\n",
        "    \"Kasir\": R_Kasir, \"Resepsionis\": R_Resepsionis,\n",
        "    \"Pegawai_Lapangan\": R_Pegawai_Lapangan, \"Pelanggan\": R_Pelanggan\n",
        "}\n",
        "\n",
        "# === Step 4: Masukkan fakta dari hasil kamu tadi ===\n",
        "s = Solver()\n",
        "\n",
        "\n",
        "\n",
        "def perm_tuple(p):\n",
        "    act, res = map(str.strip, p.split(\",\"))\n",
        "    return action_map[act], resource_map.get(res, NoneResource)\n",
        "\n",
        "role_perms = {\n",
        "    \"Superadmin\": [\n",
        "        \"R, User\", \"C, User\", \"U, User\", \"R, Customer\", \"R, MeterReading\", \"C, Bill\",\n",
        "        \"C, Permission\", \"R, Permission\", \"U, Permission\", \"D, Permission\",\n",
        "        \"R, Role\", \"R, Role_Perm\", \"C, Role\", \"C, Role_Perm\",\n",
        "        \"U, Role\", \"D, Role_Perm\", \"D, Role\",\n",
        "        \"Impersonate, Finance\", \"Impersonate, Kasir\", \"Impersonate, Pegawai_Lapangan\",\n",
        "        \"Impersonate, Resepsionis\", \"Impersonate, Direktur\"\n",
        "    ],\n",
        "    \"Direktur\": [\"R, FinancialReport\"],\n",
        "    \"Finance\": [\"C, Journal\", \"R, Journal\", \"U, Journal\", \"C, COA\", \"R, COA\", \"U, COA\", \"R, User\"],\n",
        "    \"Kasir\": [\"U, Bill\", \"C, Journal\", \"R, Journal\", \"R, COA\", \"U, Journal\", \"R, User\"],\n",
        "    \"Resepsionis\": [\"C, Customer\", \"U, Customer\", \"C, HousingArea\", \"R, HousingArea\", \"U, HousingArea\", \"R, User\"],\n",
        "    # \"Resepsionis\": [\"C, Customer\", \"C, HousingArea\", \"R, HousingArea\", \"U, HousingArea\", \"R, User\"],\n",
        "    \"Pegawai_Lapangan\": [\"C, MeterReading\", \"U, MeterReading\"],\n",
        "    # \"Pegawai_Lapangan\": [\"C, MeterReading\"],\n",
        "    \"Pelanggan\": [\"R, Customer\", \"R, Bill\", \"R, MeterReading\"]\n",
        "}\n",
        "\n",
        "# Masukkan permission ke dalam Z3\n",
        "roles = list(role_map.values())\n",
        "actions = list(action_map.values())\n",
        "resources = list(resource_map.values())\n",
        "\n"
      ],
      "metadata": {
        "id": "kn6nEiv3GCMR"
      },
      "execution_count": null,
      "outputs": []
    },
    {
      "cell_type": "code",
      "source": [
        "from collections import defaultdict, deque\n",
        "\n",
        "inherit_rel = [\n",
        "    (\"Direktur\", \"Kasir\"),\n",
        "    (\"Kasir\", \"Pelanggan\"),\n",
        "    (\"Resepsionis\", \"Pelanggan\"),\n",
        "    (\"Pegawai_Lapangan\", \"Pelanggan\")\n",
        "]\n",
        "\n",
        "# Salin base\n",
        "role_perms = {r: set(perm_list) for r, perm_list in role_perms.items()}\n",
        "\n",
        "# Buat reverse map dari child → list of parent\n",
        "child_to_parents = defaultdict(list)\n",
        "for parent, child in inherit_rel:\n",
        "    child_to_parents[child].append(parent)\n",
        "\n",
        "# Wariskan permission dari child ke parent, lakukan sampai stabil\n",
        "def propagate_permissions():\n",
        "    changed = True\n",
        "    while changed:\n",
        "        changed = False\n",
        "        for child, parents in child_to_parents.items():\n",
        "            for parent in parents:\n",
        "                for perm in role_perms.get(child, []):\n",
        "                    if perm not in role_perms[parent]:\n",
        "                        role_perms[parent].add(perm)\n",
        "                        changed = True\n",
        "\n",
        "propagate_permissions()"
      ],
      "metadata": {
        "id": "R1-tGqLCfSik"
      },
      "execution_count": null,
      "outputs": []
    },
    {
      "cell_type": "code",
      "source": [
        "# Pastikan defined_perms dideklarasikan sebelumnya\n",
        "defined_perms = set()\n",
        "\n",
        "s.push()\n",
        "\n",
        "# Menambahkan permission yang sudah didefinisikan\n",
        "for role, perms in role_perms.items():\n",
        "    for p in perms:\n",
        "        act, res = perm_tuple(p)\n",
        "        defined_perms.add((role_map[role], act, res))\n",
        "\n",
        "\n",
        "print(\"\\n🔒 Menambahkan constraint: default semua permission yang tidak didefinisikan harus False\")\n",
        "for r in roles:\n",
        "    for a in actions:\n",
        "        for res in resources:\n",
        "            if (r, a, res) not in defined_perms:\n",
        "                s.add(has_permission(r, a, res) == False)\n",
        "\n",
        "# Pastikan permission yang didefinisikan adalah True\n",
        "for r, a, res in defined_perms:\n",
        "    s.add(has_permission(r, a, res) == True)\n",
        "\n",
        "if s.check() == sat:\n",
        "  print(\"Valdi\")\n",
        "else:\n",
        "  print(\"Invalid\")"
      ],
      "metadata": {
        "colab": {
          "base_uri": "https://localhost:8080/"
        },
        "id": "5awMJc5m8pIa",
        "outputId": "6bd4af03-d48f-48a7-83ee-a130695e12da"
      },
      "execution_count": null,
      "outputs": [
        {
          "output_type": "stream",
          "name": "stdout",
          "text": [
            "\n",
            "🔒 Menambahkan constraint: default semua permission yang tidak didefinisikan harus False\n",
            "Valdi\n"
          ]
        }
      ]
    },
    {
      "cell_type": "code",
      "source": [
        "users = [Const(f\"user_{i}\", Roles) for i in range(12)]\n",
        "\n",
        "s.push()\n",
        "\n",
        "# === Step 3: Fakta role assignment ===\n",
        "s.add(users[0] == Superadmin)        # 1 Superadmin\n",
        "s.add(users[1] == Direktur)          # 1 Direktur\n",
        "s.add(users[2] == Finance)           # 2 Finance\n",
        "s.add(users[3] == Finance)\n",
        "s.add(users[4] == Kasir)             # 2 Kasir\n",
        "s.add(users[5] == Kasir)\n",
        "s.add(users[6] == Resepsionis)       # 2 Resepsionis\n",
        "s.add(users[7] == Resepsionis)\n",
        "s.add(users[8] == Pegawai_Lapangan)  # 2 Pegawai Lapangan\n",
        "s.add(users[9] == Pegawai_Lapangan)\n",
        "s.add(users[10] == Pelanggan)        # 2 Pelanggan\n",
        "s.add(users[11] == Pelanggan)\n",
        "\n",
        "if s.check() == sat:\n",
        "    m = s.model()\n",
        "    print(\"✅ Fakta role assignment:\")\n",
        "    for i in range(len(users)):\n",
        "        print(f\"User {i+1}: {m[users[i]]}\")\n",
        "else:\n",
        "    print(\"❌ Tidak bisa assign role dengan fakta tersebut.\")"
      ],
      "metadata": {
        "colab": {
          "base_uri": "https://localhost:8080/"
        },
        "id": "P1PNfB8bL3YH",
        "outputId": "5f1a698b-8533-42de-c180-92f8b7d0b1f4"
      },
      "execution_count": null,
      "outputs": [
        {
          "output_type": "stream",
          "name": "stdout",
          "text": [
            "✅ Fakta role assignment:\n",
            "User 1: Superadmin\n",
            "User 2: Direktur\n",
            "User 3: Finance\n",
            "User 4: Finance\n",
            "User 5: Kasir\n",
            "User 6: Kasir\n",
            "User 7: Resepsionis\n",
            "User 8: Resepsionis\n",
            "User 9: Pegawai_Lapangan\n",
            "User 10: Pegawai_Lapangan\n",
            "User 11: Pelanggan\n",
            "User 12: Pelanggan\n"
          ]
        }
      ]
    },
    {
      "cell_type": "code",
      "source": [
        "print(\"\\n SOD_01\")\n",
        "print(\"\\n🔍 Checking constraint: Tidak boleh ada role apa pun yang memiliki dua atau lebih dari permission {C, MeterReading}, {C, Bill}, dan {C, Journal}\")\n",
        "\n",
        "s.push()\n",
        "for role in roles:\n",
        "    c_bill = has_permission(role, C, Bill)\n",
        "    c_journal = has_permission(role, C, Journal)\n",
        "    c_meter = has_permission(role, C, MeterReading)\n",
        "\n",
        "    # Dilarang memiliki kombinasi dua atau lebih dari tiga permission ini\n",
        "    constraint = Not(Or(\n",
        "        And(c_bill, c_journal),\n",
        "        And(c_bill, c_meter),\n",
        "        And(c_journal, c_meter),\n",
        "        And(c_bill, c_journal, c_meter)\n",
        "    ))\n",
        "    s.add(constraint)\n",
        "\n",
        "if s.check() == sat:\n",
        "    print(\"✅ Passed: Tidak ada role yang memiliki dua atau lebih permission tersebut secara bersamaan.\")\n",
        "else:\n",
        "    print(\"❌ Failed: Ada role yang memiliki dua atau lebih permission tersebut.\")\n",
        "    print(\"Model or conflict info:\")\n",
        "    print(s.model())\n",
        "s.pop()\n"
      ],
      "metadata": {
        "id": "EcUTQTJ2YTKi",
        "colab": {
          "base_uri": "https://localhost:8080/"
        },
        "outputId": "015cce1c-4432-40de-e749-bdb407502d44"
      },
      "execution_count": null,
      "outputs": [
        {
          "output_type": "stream",
          "name": "stdout",
          "text": [
            "\n",
            " OP_08\n",
            "\n",
            "🔍 Checking constraint: Tidak boleh ada role apa pun yang memiliki dua atau lebih dari permission {C, MeterReading}, {C, Bill}, dan {C, Journal}\n",
            "✅ Passed: Tidak ada role yang memiliki dua atau lebih permission tersebut secara bersamaan.\n"
          ]
        }
      ]
    },
    {
      "cell_type": "code",
      "source": [
        "print(\"\\n SOD_02\")\n",
        "print(\"\\n🔍 Checking constraint: setiap user hanya satu role (valid role)\")\n",
        "s.push()\n",
        "for u in users:\n",
        "    s.add(Or(u == Superadmin, u == Direktur, u == Finance, u == Kasir,\n",
        "             u == Resepsionis, u == Pegawai_Lapangan, u == Pelanggan))\n",
        "if s.check() == sat:\n",
        "    print(\"✅ Passed: Semua user memiliki role yang valid.\")\n",
        "else:\n",
        "    print(\"❌ Failed: Ada user dengan role tidak valid.\")\n",
        "s.pop()"
      ],
      "metadata": {
        "colab": {
          "base_uri": "https://localhost:8080/"
        },
        "id": "IeDyGPWwVYpp",
        "outputId": "849e1d90-4509-42b8-f898-3996a4ebc14c"
      },
      "execution_count": null,
      "outputs": [
        {
          "output_type": "stream",
          "name": "stdout",
          "text": [
            "\n",
            " SOD_02\n",
            "\n",
            "🔍 Checking constraint: setiap user hanya satu role (valid role)\n",
            "✅ Passed: Semua user memiliki role yang valid.\n"
          ]
        }
      ]
    },
    {
      "cell_type": "code",
      "source": [
        "# === Constraint Debug Check 2: Hanya satu Superadmin ===\n",
        "print(\"\\n CA_01\")\n",
        "print(\"\\n🔍 Checking constraint: hanya satu Superadmin\")\n",
        "s.push()\n",
        "\n",
        "count_superadmin = Sum([If(users[i] == Superadmin, 1, 0) for i in range(len(users))])\n",
        "s.add(count_superadmin == 1)\n",
        "if s.check() == sat:\n",
        "    print(\"✅ Passed: Hanya satu Superadmin.\")\n",
        "else:\n",
        "    print(\"❌ Failed: Jumlah Superadmin tidak tepat.\")\n",
        "s.pop()"
      ],
      "metadata": {
        "colab": {
          "base_uri": "https://localhost:8080/"
        },
        "id": "5BpI56jyVj_c",
        "outputId": "e4f3cad7-d668-43d3-8636-ad06c7d6dec0"
      },
      "execution_count": null,
      "outputs": [
        {
          "output_type": "stream",
          "name": "stdout",
          "text": [
            "\n",
            " CA_01\n",
            "\n",
            "🔍 Checking constraint: hanya satu Superadmin\n",
            "✅ Passed: Hanya satu Superadmin.\n"
          ]
        }
      ]
    },
    {
      "cell_type": "code",
      "source": [
        "# === Constraint Debug Check: Tiap role minimal satu user ===\n",
        "print(\"\\n CA_02\")\n",
        "print(\"\\n🔍 Checking constraint: tiap role minimal satu user\")\n",
        "\n",
        "s.push()\n",
        "roles = [Superadmin, Direktur, Finance, Kasir, Resepsionis, Pegawai_Lapangan, Pelanggan]\n",
        "\n",
        "for role in roles:\n",
        "    count = Sum([If(user == role, 1, 0) for user in users])\n",
        "    s.add(count >= 1)\n",
        "\n",
        "if s.check() == sat:\n",
        "    print(\"✅ Passed: Semua role dimiliki minimal oleh satu user.\")\n",
        "else:\n",
        "    print(\"❌ Failed: Ada role yang tidak dimiliki oleh user mana pun.\")\n",
        "s.pop()"
      ],
      "metadata": {
        "colab": {
          "base_uri": "https://localhost:8080/"
        },
        "id": "A64lA3bYMMZK",
        "outputId": "4e021e90-61fc-4581-ff97-3989fa99be27"
      },
      "execution_count": null,
      "outputs": [
        {
          "output_type": "stream",
          "name": "stdout",
          "text": [
            "\n",
            " CA_02\n",
            "\n",
            "🔍 Checking constraint: tiap role minimal satu user\n",
            "✅ Passed: Semua role dimiliki minimal oleh satu user.\n"
          ]
        }
      ]
    },
    {
      "cell_type": "code",
      "source": [
        "# Constraint: Tiap permission minimal digunakan satu role\n",
        "print(\"\\n CA_03\")\n",
        "print(\"\\n🔍 Checking constraint: tiap permission minimal digunakan satu role\")\n",
        "\n",
        "# Ambil permissions unik yang ada di role_perms\n",
        "permissions_used = set()\n",
        "for perms in role_perms.values():\n",
        "    for p in perms:\n",
        "        act, res = perm_tuple(p)\n",
        "        permissions_used.add((act, res))\n",
        "\n",
        "# Pastikan tiap permission digunakan minimal satu role\n",
        "for permission in permissions_used:\n",
        "    s.add(Sum([If(has_permission(role, permission[0], permission[1]), 1, 0) for role in roles]) >= 1)\n",
        "\n",
        "# Debug: check jika constraint diterima\n",
        "s.push()\n",
        "if s.check() == sat:\n",
        "    print(\"✅ Passed: Semua permission digunakan minimal satu role.\")\n",
        "else:\n",
        "    print(\"❌ Failed: Ada permission yang tidak digunakan oleh role mana pun.\")\n",
        "s.pop()\n"
      ],
      "metadata": {
        "colab": {
          "base_uri": "https://localhost:8080/"
        },
        "id": "XOP1jBT1VQhl",
        "outputId": "784b8306-6953-46fd-839b-2aa3e73fbe55"
      },
      "execution_count": null,
      "outputs": [
        {
          "output_type": "stream",
          "name": "stdout",
          "text": [
            "\n",
            " CA_03\n",
            "\n",
            "🔍 Checking constraint: tiap permission minimal digunakan satu role\n",
            "✅ Passed: Semua permission digunakan minimal satu role.\n"
          ]
        }
      ]
    },
    {
      "cell_type": "code",
      "source": [
        "print(\"\\n OP_07\")\n",
        "print(\"\\n🔍 Checking constraint: Role yang memiliki permission Update harus memiliki permission Read untuk objek terkait\")\n",
        "\n",
        "s.push()\n",
        "\n",
        "# Constraint: Role yang memiliki permission Update harus memiliki permission Read untuk objek terkait\n",
        "for role, perms in role_perms.items():\n",
        "    print(f\"{role}: {', '.join(map(str, perms))}\")\n",
        "# Cek semua kombinasi yang secara eksplisit diberikan\n",
        "for (r, a, res) in defined_perms:\n",
        "    if a == U:\n",
        "        print(\"role \", r, \" action \", a, \" resource \", res)\n",
        "        role_map\n",
        "        s.add(Implies(\n",
        "            has_permission(r, U, res),\n",
        "            has_permission(r, R, res)\n",
        "        ))\n",
        "\n",
        "if s.check() == sat:\n",
        "    print(\"✅ Passed: Role yang memiliki permission Update juga memiliki permission Read untuk objek terkait.\")\n",
        "else:\n",
        "    print(\"❌ Failed: Ada role yang tidak memenuhi constraint Update harus punya Read untuk objek terkait.\")\n",
        "s.pop()"
      ],
      "metadata": {
        "colab": {
          "base_uri": "https://localhost:8080/"
        },
        "id": "eKK1eF5BYTV-",
        "outputId": "9c60e4e0-c39a-47f8-b4bd-c9d3a5bb88c7"
      },
      "execution_count": null,
      "outputs": [
        {
          "output_type": "stream",
          "name": "stdout",
          "text": [
            "\n",
            " OP_07\n",
            "\n",
            "🔍 Checking constraint: Role yang memiliki permission Update harus memiliki permission Read untuk objek terkait\n",
            "Superadmin: R, User, U, Role, U, Permission, U, User, D, Role, R, Permission, R, Customer, Impersonate, Kasir, D, Role_Perm, Impersonate, Resepsionis, R, Role_Perm, C, Permission, C, Role_Perm, C, User, C, Bill, R, Role, Impersonate, Pegawai_Lapangan, R, MeterReading, C, Role, Impersonate, Finance, Impersonate, Direktur, D, Permission\n",
            "Direktur: R, Journal, R, User, R, COA, R, MeterReading, U, Journal, R, Bill, C, Journal, R, FinancialReport, R, Customer, U, Bill\n",
            "Finance: R, Journal, R, User, U, COA, R, COA, U, Journal, C, Journal, C, COA\n",
            "Kasir: R, Journal, R, User, R, COA, R, MeterReading, U, Journal, R, Bill, C, Journal, R, Customer, U, Bill\n",
            "Resepsionis: R, User, R, MeterReading, U, HousingArea, C, Customer, R, Bill, R, Customer, U, Customer, R, HousingArea, C, HousingArea\n",
            "Pegawai_Lapangan: R, MeterReading, C, MeterReading, R, Bill, R, Customer, U, MeterReading\n",
            "Pelanggan: R, Bill, R, Customer, R, MeterReading\n",
            "role  Direktur  action  U  resource  Journal\n",
            "role  Direktur  action  U  resource  Bill\n",
            "role  Resepsionis  action  U  resource  Customer\n",
            "role  Finance  action  U  resource  Journal\n",
            "role  Finance  action  U  resource  COA\n",
            "role  Pegawai_Lapangan  action  U  resource  MeterReading\n",
            "role  Kasir  action  U  resource  Journal\n",
            "role  Superadmin  action  U  resource  Permission\n",
            "role  Kasir  action  U  resource  Bill\n",
            "role  Superadmin  action  U  resource  User\n",
            "role  Resepsionis  action  U  resource  HousingArea\n",
            "role  Superadmin  action  U  resource  Role\n",
            "✅ Passed: Role yang memiliki permission Update juga memiliki permission Read untuk objek terkait.\n"
          ]
        }
      ]
    }
  ]
}