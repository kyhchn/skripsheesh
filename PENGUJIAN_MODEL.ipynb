{
  "nbformat": 4,
  "nbformat_minor": 0,
  "metadata": {
    "colab": {
      "provenance": [],
      "authorship_tag": "ABX9TyNr4jkiEiS6GqjUyztj7D9i",
      "include_colab_link": true
    },
    "kernelspec": {
      "name": "python3",
      "display_name": "Python 3"
    },
    "language_info": {
      "name": "python"
    }
  },
  "cells": [
    {
      "cell_type": "markdown",
      "metadata": {
        "id": "view-in-github",
        "colab_type": "text"
      },
      "source": [
        "<a href=\"https://colab.research.google.com/github/kyhchn/skripsheesh/blob/main/PENGUJIAN_MODEL.ipynb\" target=\"_parent\"><img src=\"https://colab.research.google.com/assets/colab-badge.svg\" alt=\"Open In Colab\"/></a>"
      ]
    },
    {
      "cell_type": "code",
      "execution_count": null,
      "metadata": {
        "colab": {
          "base_uri": "https://localhost:8080/"
        },
        "id": "XlsNI_0j-V1L",
        "outputId": "acfc42cb-93b3-4fa9-8dd6-0ca99eb5fb92"
      },
      "outputs": [
        {
          "output_type": "stream",
          "name": "stdout",
          "text": [
            "Collecting z3-solver\n",
            "  Downloading z3_solver-4.15.0.0-py3-none-manylinux_2_17_x86_64.manylinux2014_x86_64.whl.metadata (602 bytes)\n",
            "Downloading z3_solver-4.15.0.0-py3-none-manylinux_2_17_x86_64.manylinux2014_x86_64.whl (29.5 MB)\n",
            "\u001b[2K   \u001b[90m━━━━━━━━━━━━━━━━━━━━━━━━━━━━━━━━━━━━━━━━\u001b[0m \u001b[32m29.5/29.5 MB\u001b[0m \u001b[31m11.8 MB/s\u001b[0m eta \u001b[36m0:00:00\u001b[0m\n",
            "\u001b[?25hInstalling collected packages: z3-solver\n",
            "Successfully installed z3-solver-4.15.0.0\n"
          ]
        }
      ],
      "source": [
        "# prompt: install z3 prover\n",
        "\n",
        "!pip install z3-solver\n"
      ]
    },
    {
      "cell_type": "code",
      "source": [
        "from z3 import *\n",
        "\n",
        "\n",
        "# === Step 1: Enum untuk Role, Action, Resource ===\n",
        "Roles, (Superadmin, Direktur, Finance, Kasir, Resepsionis, Pegawai_Lapangan, Pelanggan) = EnumSort(\"Role\", [\n",
        "    \"Superadmin\", \"Direktur\", \"Finance\", \"Kasir\", \"Resepsionis\", \"Pegawai_Lapangan\", \"Pelanggan\"\n",
        "])\n",
        "\n",
        "Actions, (R, C, U, D, Impersonate) = EnumSort(\"Action\", [\"R\", \"C\", \"U\", \"D\", \"Impersonate\"])\n",
        "\n",
        "Resources, (\n",
        "    User, Customer, MeterReading, Bill, Permission, Role, Role_Perm,\n",
        "    Journal, COA, FinancialReport, HousingArea, NoneResource\n",
        ") = EnumSort(\"Resource\", [\n",
        "    \"User\", \"Customer\", \"MeterReading\", \"Bill\", \"Permission\", \"Role\", \"Role_Perm\",\n",
        "    \"Journal\", \"COA\", \"FinancialReport\", \"HousingArea\", \"None\"\n",
        "])\n",
        "\n",
        "# === Step 2: Function untuk permission dan inheritance ===\n",
        "has_permission = Function(\"has_permission\", Roles, Actions, Resources, BoolSort())\n",
        "inherits = Function(\"inherits\", Roles, Roles, BoolSort())\n",
        "\n",
        "# === Step 3: Mapping string ke enum (biar gampang parsing) ===\n",
        "role_map = {\n",
        "    \"Superadmin\": Superadmin, \"Direktur\": Direktur, \"Finance\": Finance,\n",
        "    \"Kasir\": Kasir, \"Resepsionis\": Resepsionis, \"Pegawai_Lapangan\": Pegawai_Lapangan, \"Pelanggan\": Pelanggan\n",
        "}\n",
        "action_map = {\"R\": R, \"C\": C, \"U\": U, \"D\": D, \"Impersonate\": Impersonate}\n",
        "resource_map = {\n",
        "    \"User\": User, \"Customer\": Customer, \"MeterReading\": MeterReading, \"Bill\": Bill,\n",
        "    \"Permission\": Permission, \"Role\": Role, \"Role_Perm\": Role_Perm,\n",
        "    \"Journal\": Journal, \"COA\": COA, \"FinancialReport\": FinancialReport,\n",
        "    \"HousingArea\": HousingArea, \"None\": NoneResource\n",
        "}\n",
        "\n",
        "# === Step 4: Masukkan fakta dari hasil kamu tadi ===\n",
        "s = Solver()\n",
        "\n",
        "def add_tracked(expr, name):\n",
        "    s.assert_and_track(expr, String(name))\n",
        "\n",
        "\n",
        "def perm_tuple(p):\n",
        "    act, res = map(str.strip, p.split(\",\"))\n",
        "    return action_map[act], resource_map.get(res, NoneResource)\n",
        "\n",
        "role_perms = {\n",
        "    \"Superadmin\": [\n",
        "        \"R, User\", \"C, User\", \"U, User\", \"R, Customer\", \"R, MeterReading\", \"C, Bill\",\n",
        "        \"C, Permission\", \"R, Permission\", \"U, Permission\", \"D, Permission\",\n",
        "        \"R, Role\", \"R, Role_Perm\", \"C, Role\", \"C, Role_Perm\",\n",
        "        \"U, Role\", \"D, Role_Perm\", \"D, Role\",\n",
        "        \"Impersonate, Finance\", \"Impersonate, Kasir\", \"Impersonate, Pegawai_Lapangan\",\n",
        "        \"Impersonate, Resepsionis\", \"Impersonate, Direktur\"\n",
        "    ],\n",
        "    \"Direktur\": [\"R, FinancialReport\"],\n",
        "    \"Finance\": [\"C, Journal\", \"R, Journal\", \"U, Journal\", \"C, COA\", \"R, COA\", \"U, COA\", \"R, User\"],\n",
        "    \"Kasir\": [\"U, Bill\", \"C, Journal\", \"R, Journal\", \"R, COA\", \"U, Journal\", \"R, User\"],\n",
        "    \"Resepsionis\": [\"C, Customer\", \"U, Customer\", \"C, HousingArea\", \"R, HousingArea\", \"U, HousingArea\", \"R, User\"],\n",
        "    \"Pegawai_Lapangan\": [\"C, MeterReading\", \"U, MeterReading\"],\n",
        "    \"Pelanggan\": [\"R, Customer\", \"R, MeterReading\", \"R, Bill\"]\n",
        "}\n",
        "\n",
        "# Masukkan permission ke dalam Z3\n",
        "for role, perms in role_perms.items():\n",
        "    for p in perms:\n",
        "        act, res = perm_tuple(p)\n",
        "        s.add(has_permission(role_map[role], act, res))\n",
        "\n",
        "# === Step 5: Masukkan inheritance ===\n",
        "inherit_rel = [\n",
        "    (\"Direktur\", \"Kasir\"),\n",
        "    (\"Kasir\", \"Pelanggan\"),\n",
        "    (\"Resepsionis\", \"Pelanggan\"),\n",
        "    (\"Pegawai_Lapangan\", \"Pelanggan\")\n",
        "]\n",
        "\n",
        "for parent, child in inherit_rel:\n",
        "    s.add(inherits(role_map[parent], role_map[child]))\n",
        "\n",
        "# === Base Case done! ===\n",
        "print(\"✅ Base Z3 model siap digunakan!\")\n"
      ],
      "metadata": {
        "colab": {
          "base_uri": "https://localhost:8080/"
        },
        "id": "kn6nEiv3GCMR",
        "outputId": "95111180-9d5c-4aff-c264-26314fe105b5"
      },
      "execution_count": null,
      "outputs": [
        {
          "output_type": "stream",
          "name": "stdout",
          "text": [
            "✅ Base Z3 model siap digunakan!\n"
          ]
        }
      ]
    },
    {
      "cell_type": "code",
      "source": [
        "users = [Const(f\"user_{i}\", Roles) for i in range(13)]\n",
        "\n",
        "s.push()\n",
        "\n",
        "# === Step 3: Fakta role assignment ===\n",
        "s.add(users[0] == Superadmin)        # 1 Superadmin\n",
        "s.add(users[1] == Direktur)          # 1 Direktur\n",
        "s.add(users[2] == Finance)           # 2 Finance\n",
        "s.add(users[3] == Finance)\n",
        "s.add(users[4] == Kasir)             # 2 Kasir\n",
        "s.add(users[5] == Kasir)\n",
        "s.add(users[6] == Resepsionis)       # 2 Resepsionis\n",
        "s.add(users[7] == Resepsionis)\n",
        "s.add(users[8] == Pegawai_Lapangan)  # 2 Pegawai Lapangan\n",
        "s.add(users[9] == Pegawai_Lapangan)\n",
        "s.add(users[10] == Pelanggan)        # 2 Pelanggan\n",
        "s.add(users[11] == Pelanggan)\n",
        "s.add(users[12] == Superadmin)\n",
        "\n",
        "if s.check() == sat:\n",
        "    m = s.model()\n",
        "    print(\"✅ Fakta role assignment:\")\n",
        "    for i in range(len(users)):\n",
        "        print(f\"User {i+1}: {m[users[i]]}\")\n",
        "else:\n",
        "    print(\"❌ Tidak bisa assign role dengan fakta tersebut.\")"
      ],
      "metadata": {
        "colab": {
          "base_uri": "https://localhost:8080/"
        },
        "id": "P1PNfB8bL3YH",
        "outputId": "74d0b946-52f1-472b-e65f-b9ed23a4a17f"
      },
      "execution_count": null,
      "outputs": [
        {
          "output_type": "stream",
          "name": "stdout",
          "text": [
            "✅ Fakta role assignment:\n",
            "User 1: Superadmin\n",
            "User 2: Direktur\n",
            "User 3: Finance\n",
            "User 4: Finance\n",
            "User 5: Kasir\n",
            "User 6: Kasir\n",
            "User 7: Resepsionis\n",
            "User 8: Resepsionis\n",
            "User 9: Pegawai_Lapangan\n",
            "User 10: Pegawai_Lapangan\n",
            "User 11: Pelanggan\n",
            "User 12: Pelanggan\n",
            "User 13: Superadmin\n"
          ]
        }
      ]
    },
    {
      "cell_type": "code",
      "source": [
        "print(\"\\n SOD_02\")\n",
        "print(\"\\n🔍 Checking constraint: setiap user hanya satu role (valid role)\")\n",
        "s.push()\n",
        "for u in users:\n",
        "    s.add(Or(u == Superadmin, u == Direktur, u == Finance, u == Kasir,\n",
        "             u == Resepsionis, u == Pegawai_Lapangan, u == Pelanggan))\n",
        "if s.check() == sat:\n",
        "    print(\"✅ Passed: Semua user memiliki role yang valid.\")\n",
        "else:\n",
        "    print(\"❌ Failed: Ada user dengan role tidak valid.\")\n",
        "s.pop()"
      ],
      "metadata": {
        "colab": {
          "base_uri": "https://localhost:8080/"
        },
        "id": "IeDyGPWwVYpp",
        "outputId": "807ebf42-1405-4348-9e73-32d485f989c9"
      },
      "execution_count": null,
      "outputs": [
        {
          "output_type": "stream",
          "name": "stdout",
          "text": [
            "\n",
            "🔍 Checking constraint: setiap user hanya satu role (valid role)\n",
            "✅ Passed: Semua user memiliki role yang valid.\n"
          ]
        }
      ]
    },
    {
      "cell_type": "code",
      "source": [
        "# === Constraint Debug Check 2: Hanya satu Superadmin ===\n",
        "print(\"\\n CA_01\")\n",
        "print(\"\\n🔍 Checking constraint: hanya satu Superadmin\")\n",
        "s.push()\n",
        "\n",
        "count_superadmin = Sum([If(users[i] == Superadmin, 1, 0) for i in range(len(users))])\n",
        "s.add(count_superadmin == 1)\n",
        "if s.check() == sat:\n",
        "    print(\"✅ Passed: Hanya satu Superadmin.\")\n",
        "else:\n",
        "    print(\"❌ Failed: Jumlah Superadmin tidak tepat.\")\n",
        "s.pop()"
      ],
      "metadata": {
        "colab": {
          "base_uri": "https://localhost:8080/"
        },
        "id": "5BpI56jyVj_c",
        "outputId": "1c1e30b3-4b42-4f8d-8a4e-85f903e2abb7"
      },
      "execution_count": null,
      "outputs": [
        {
          "output_type": "stream",
          "name": "stdout",
          "text": [
            "\n",
            "🔍 Checking constraint: hanya satu Superadmin\n",
            "❌ Failed: Jumlah Superadmin tidak tepat.\n"
          ]
        }
      ]
    },
    {
      "cell_type": "code",
      "source": [
        "# === Constraint Debug Check: Tiap role minimal satu user ===\n",
        "print(\"\\n CA_02\")\n",
        "print(\"\\n🔍 Checking constraint: tiap role minimal satu user\")\n",
        "\n",
        "s.push()\n",
        "roles = [Superadmin, Direktur, Finance, Kasir, Resepsionis, Pegawai_Lapangan, Pelanggan]\n",
        "\n",
        "for role in roles:\n",
        "    count = Sum([If(user == role, 1, 0) for user in users])\n",
        "    s.add(count >= 1)\n",
        "\n",
        "if s.check() == sat:\n",
        "    print(\"✅ Passed: Semua role dimiliki minimal oleh satu user.\")\n",
        "else:\n",
        "    print(\"❌ Failed: Ada role yang tidak dimiliki oleh user mana pun.\")\n",
        "s.pop()"
      ],
      "metadata": {
        "colab": {
          "base_uri": "https://localhost:8080/"
        },
        "id": "A64lA3bYMMZK",
        "outputId": "3a7ce82e-5be0-42ad-e324-c64bcf4d14c8"
      },
      "execution_count": null,
      "outputs": [
        {
          "output_type": "stream",
          "name": "stdout",
          "text": [
            "\n",
            "🔍 Checking constraint: tiap role minimal satu user\n",
            "✅ Passed: Semua role dimiliki minimal oleh satu user.\n"
          ]
        }
      ]
    },
    {
      "cell_type": "code",
      "source": [
        "# Constraint: Tiap permission minimal digunakan satu role\n",
        "print(\"\\n CA_03\")\n",
        "print(\"\\n🔍 Checking constraint: tiap permission minimal digunakan satu role\")\n",
        "\n",
        "# Ambil permissions unik yang ada di role_perms\n",
        "permissions_used = set()\n",
        "for perms in role_perms.values():\n",
        "    for p in perms:\n",
        "        act, res = perm_tuple(p)\n",
        "        permissions_used.add((act, res))\n",
        "\n",
        "# Pastikan tiap permission digunakan minimal satu role\n",
        "for permission in permissions_used:\n",
        "    s.add(Sum([If(has_permission(role, permission[0], permission[1]), 1, 0) for role in roles]) >= 1)\n",
        "\n",
        "# Debug: check jika constraint diterima\n",
        "s.push()\n",
        "if s.check() == sat:\n",
        "    print(\"✅ Passed: Semua permission digunakan minimal satu role.\")\n",
        "else:\n",
        "    print(\"❌ Failed: Ada permission yang tidak digunakan oleh role mana pun.\")\n",
        "s.pop()\n"
      ],
      "metadata": {
        "colab": {
          "base_uri": "https://localhost:8080/"
        },
        "id": "XOP1jBT1VQhl",
        "outputId": "b7878fd2-4ee2-4369-acde-36251c900afc"
      },
      "execution_count": null,
      "outputs": [
        {
          "output_type": "stream",
          "name": "stdout",
          "text": [
            "\n",
            "🔍 Checking constraint: tiap permission minimal digunakan satu role\n",
            "✅ Passed: Semua permission digunakan minimal satu role.\n"
          ]
        }
      ]
    },
    {
      "cell_type": "code",
      "source": [
        "# Constraint: Role yang memiliki permission Update harus memiliki permission Read untuk objek terkait\n",
        "print(\"\\n OP_07\")\n",
        "print(\"\\n🔍 Checking constraint: Role yang memiliki permission Update harus memiliki permission Read untuk objek terkait\")\n",
        "\n",
        "# Iterasi setiap role dan permission untuk memeriksa Update dan Read pada resource yang sama\n",
        "for role in roles:\n",
        "    for act, res in permissions_used:\n",
        "        # Jika role memiliki permission Update untuk resource tertentu, maka harus ada permission Read untuk resource tersebut\n",
        "        s.add(Implies(\n",
        "            has_permission(role, U, res),  # Jika role memiliki Update pada resource res\n",
        "            has_permission(role, R, res)   # Maka role harus memiliki Read pada resource res\n",
        "        ))\n",
        "\n",
        "# Debug: check jika constraint diterima\n",
        "s.push()\n",
        "if s.check() == sat:\n",
        "    print(\"✅ Passed: Role yang memiliki permission Update juga memiliki permission Read untuk objek terkait.\")\n",
        "else:\n",
        "    print(\"❌ Failed: Ada role yang tidak memenuhi constraint Update harus punya Read untuk objek terkait.\")\n",
        "s.pop()\n"
      ],
      "metadata": {
        "colab": {
          "base_uri": "https://localhost:8080/"
        },
        "id": "eKK1eF5BYTV-",
        "outputId": "392eacb9-23e7-4b7b-8d6c-09cc3ac35c52"
      },
      "execution_count": null,
      "outputs": [
        {
          "output_type": "stream",
          "name": "stdout",
          "text": [
            "\n",
            "🔍 Checking constraint: Role yang memiliki permission Update harus memiliki permission Read untuk objek terkait\n",
            "✅ Passed: Role yang memiliki permission Update juga memiliki permission Read untuk objek terkait.\n"
          ]
        }
      ]
    },
    {
      "cell_type": "code",
      "source": [],
      "metadata": {
        "id": "EcUTQTJ2YTKi",
        "colab": {
          "base_uri": "https://localhost:8080/",
          "height": 269
        },
        "outputId": "a0c52949-9cb2-4beb-e6c5-18e89c8c53cf"
      },
      "execution_count": null,
      "outputs": [
        {
          "output_type": "stream",
          "name": "stdout",
          "text": [
            "\n",
            " OP_08\n",
            "🔍 Checking constraint: Tidak boleh ada role apa pun yang memiliki ketiga permission {C, MeterReading}, {C, Bill}, dan {C, Journal} secara bersamaan\n"
          ]
        },
        {
          "output_type": "error",
          "ename": "NameError",
          "evalue": "name 'roles' is not defined",
          "traceback": [
            "\u001b[0;31m---------------------------------------------------------------------------\u001b[0m",
            "\u001b[0;31mNameError\u001b[0m                                 Traceback (most recent call last)",
            "\u001b[0;32m<ipython-input-6-629d4dfd994d>\u001b[0m in \u001b[0;36m<cell line: 0>\u001b[0;34m()\u001b[0m\n\u001b[1;32m      6\u001b[0m \u001b[0ms\u001b[0m\u001b[0;34m.\u001b[0m\u001b[0mpush\u001b[0m\u001b[0;34m(\u001b[0m\u001b[0;34m)\u001b[0m\u001b[0;34m\u001b[0m\u001b[0;34m\u001b[0m\u001b[0m\n\u001b[1;32m      7\u001b[0m \u001b[0;31m# Iterasi setiap role untuk memastikan tidak ada yang memiliki ketiganya sekaligus\u001b[0m\u001b[0;34m\u001b[0m\u001b[0;34m\u001b[0m\u001b[0m\n\u001b[0;32m----> 8\u001b[0;31m \u001b[0;32mfor\u001b[0m \u001b[0mrole\u001b[0m \u001b[0;32min\u001b[0m \u001b[0mroles\u001b[0m\u001b[0;34m:\u001b[0m\u001b[0;34m\u001b[0m\u001b[0;34m\u001b[0m\u001b[0m\n\u001b[0m\u001b[1;32m      9\u001b[0m     s.add(Not(And(\n\u001b[1;32m     10\u001b[0m         \u001b[0mhas_permission\u001b[0m\u001b[0;34m(\u001b[0m\u001b[0mrole\u001b[0m\u001b[0;34m,\u001b[0m \u001b[0mC\u001b[0m\u001b[0;34m,\u001b[0m \u001b[0mMeterReading\u001b[0m\u001b[0;34m)\u001b[0m\u001b[0;34m,\u001b[0m\u001b[0;34m\u001b[0m\u001b[0;34m\u001b[0m\u001b[0m\n",
            "\u001b[0;31mNameError\u001b[0m: name 'roles' is not defined"
          ]
        }
      ]
    }
  ]
}